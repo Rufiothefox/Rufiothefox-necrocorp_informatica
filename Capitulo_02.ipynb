{
  "nbformat": 4,
  "nbformat_minor": 0,
  "metadata": {
    "colab": {
      "name": "Capitulo_02.ipynb",
      "provenance": [],
      "collapsed_sections": [],
      "authorship_tag": "ABX9TyOsMrgpc4UssB6NW3IMftmF",
      "include_colab_link": true
    },
    "kernelspec": {
      "name": "python3",
      "display_name": "Python 3"
    }
  },
  "cells": [
    {
      "cell_type": "markdown",
      "metadata": {
        "id": "view-in-github",
        "colab_type": "text"
      },
      "source": [
        "<a href=\"https://colab.research.google.com/github/Rufiothefox/necrocorp_informatica/blob/master/Capitulo_02.ipynb\" target=\"_parent\"><img src=\"https://colab.research.google.com/assets/colab-badge.svg\" alt=\"Open In Colab\"/></a>"
      ]
    },
    {
      "cell_type": "code",
      "metadata": {
        "id": "PZRr1zcFcRL5",
        "outputId": "289b4747-4321-47fb-85f8-b58d70b26598",
        "colab": {
          "base_uri": "https://localhost:8080/"
        }
      },
      "source": [
        "# True ou False\n",
        "nome = input(\"Digite o seu nome: \")\n",
        "if len(nome) > 20:\n",
        "  print(\"O nome deve ter no máximo 20 caracteres!\")\n",
        "  nome = input(\"Digite o seu nome: \")\n",
        "print(\"Nome Digitado: {}\".format(nome))\n"
      ],
      "execution_count": null,
      "outputs": [
        {
          "output_type": "stream",
          "text": [
            "Digite o seu nome: Paulo\n",
            "Nome Digitado: Paulo\n"
          ],
          "name": "stdout"
        }
      ]
    },
    {
      "cell_type": "code",
      "metadata": {
        "id": "1WalQoO3hX57",
        "outputId": "e88fb935-057e-4d2c-cc0f-0788e47d595c",
        "colab": {
          "base_uri": "https://localhost:8080/"
        }
      },
      "source": [
        "usuario = input(\"Digite o seu usuário: \")\n",
        "senha =input(\"Digite a sua Senha: \")\n",
        "if (usuario == \"Paulo\") or (usuario ==\"paulo\") and (senha == \"secreto\") or (senha == \"Secreto\"):\n",
        "  print(\"Parabens, você tem acesso ao sistema!\")\n",
        "else:\n",
        "  print(\"Usuário ou senha inválidos \")"
      ],
      "execution_count": null,
      "outputs": [
        {
          "output_type": "stream",
          "text": [
            "Digite o seu usuário: Paulo\n",
            "Digite a sua Senha: Secreto\n",
            "Parabens, você tem acesso ao sistema!\n"
          ],
          "name": "stdout"
        }
      ]
    },
    {
      "cell_type": "code",
      "metadata": {
        "id": "Jt5LxUwIjWI8",
        "outputId": "fd05fbe8-b054-4be7-8a4b-fd23faedff1d",
        "colab": {
          "base_uri": "https://localhost:8080/"
        }
      },
      "source": [
        "# Tem carteira de Moto\n",
        "# Tem carteira de Carro\n",
        "# Se Tiver carteira de carro então seu nível é igual a 1\n",
        "# Se Tiver carteira de moto então seu nível é igual a 2\n",
        "# Se Tiver carteira de carro e moto então seu nível é 3\n",
        "# Algoritmo para calcular o nível do funcionário\n",
        "questao = input(\"Você possui carteira de Moto?(S/N)\")\n",
        "carteira_moto = questao==\"S\" or \"s\" or \"SIM\" or \"sim\";  # ou  (questao.upper()==\"S\") or (questao.upper()==\"SIM\")\n",
        "questao = input (\"Você possui carteira de Carro?(S/N)\")\n",
        "carteira_carro = questao==\"S\" or \"s\" or \"SIM\" or \"sim\"; # ou  (questao.upper()==\"S\") or (questao.upper()==\"SIM\")\n",
        "if(carteira_carro) and (not(carteira_moto)):\n",
        "  print(\"Você está no nível 1.\")\n",
        "elif (not(carteira_carro)) and (carteira_moto):\n",
        "   print(\"Você esta no nível 2.\")\n",
        "elif (carteira_carro) and (carteira_moto):\n",
        "     print(\"Você esta no nível 3.\")\n",
        "elif (carteira_carro==False) and (carteira_moto==False):\n",
        "     print(\"Você não possui carteira.\")"
      ],
      "execution_count": null,
      "outputs": [
        {
          "output_type": "stream",
          "text": [
            "Você possui carteira de Moto?(S/N)SIM\n",
            "Você possui carteira de Carro?(S/N)Nao\n",
            "Você esta no nível 3.\n"
          ],
          "name": "stdout"
        }
      ]
    },
    {
      "cell_type": "code",
      "metadata": {
        "id": "mV1FoFnpuAfv",
        "outputId": "2f21c9b0-e5f6-488c-dd6a-84282e628b3b",
        "colab": {
          "base_uri": "https://localhost:8080/"
        }
      },
      "source": [
        "# primeiro_emprego ?\n",
        "# tem alguma carteira?\n",
        "# Quero saber se ele tem vagta ou não na empresa\n",
        "# Ele tem vaga se é o primneiro_emprego OU se ele já tem habilitação?\n",
        "questao = input(\"Esse é o seu primeiro emprego?(S/N)\")\n",
        "primeiro_emprego = questao==\"S\" or \"s\" or \"SIM\"; #coloquei o or para o s minusculo\n",
        "questao = input(\"Você possui habilitação?(S/N)\")\n",
        "habilitação = questao==\"S\" or \"s\" or \"SIM\";  #coloquei o or para o s minusculo\n",
        "if (primeiro_emprego) or (habilitação):\n",
        "  print(\"Você pode trabalhar na nossa empresa!\")\n",
        "else:\n",
        "    print(\"Não há vagas para você!\")"
      ],
      "execution_count": null,
      "outputs": [
        {
          "output_type": "stream",
          "text": [
            "Esse é o seu primeiro emprego?(S/N)SIM\n",
            "Você possui habilitação?(S/N)N\n",
            "Você pode trabalhar na nossa empresa!\n"
          ],
          "name": "stdout"
        }
      ]
    },
    {
      "cell_type": "code",
      "metadata": {
        "id": "9ax0l9-AzUrw",
        "outputId": "db23f5cc-b238-49bc-fd7c-0a7696ef996a",
        "colab": {
          "base_uri": "https://localhost:8080/"
        }
      },
      "source": [
        "# Jogo de Dados\n",
        "# Escolho o valor entre 1 e 6\n",
        "# Escolho quanto quero apostar maximo 100 (Valor que eu tenho no bolso)\n",
        "# Jogo 2 dados\n",
        "# Se 1 dado der igual eu ganho 2x o valor apostado\n",
        "# Se os 2 dados derem iguais ganho 10x o valor apostado\n",
        "# Se não der nenhum dados igual eu perco o meu dinheiro\n",
        "\n",
        "from random import randrange\n",
        "bolso = 100\n",
        "numero_apostado = int( input(\"Qual número você aposta?\"))\n",
        "valor_aposta = float(input(\"QUal o valor da Sua aposta?\"))\n",
        "if valor_aposta > bolso:\n",
        "  print(\"Você não temn esse dinheiro\")\n",
        "else:\n",
        "  bolso = bolso - valor_aposta\n",
        "  dado1 = randrange(1,6)\n",
        "  dado2 = randrange(1,6)\n",
        "  mensagem_ganho = \" Sorteados os dados {} e {} \"\n",
        "  print(mensagem_ganho.format(dado1,dado2))\n",
        "  resultado = 0 \n",
        "if (dado1==numero_apostado) and (dado2==numero_apostado):\n",
        "   resultado = valor_aposta * 10 \n",
        "   bolso = resultado + bolso\n",
        "   print(mensagem_ganho1.format(resultado,bolso))\n",
        "elif (dado1==numero_apostado) or (dado2==numero_apostado):\n",
        "    resultado = valor_aposta * 2\n",
        "    bolso = resultado + bolso\n",
        "    print(\"Você ganhou {} e agora está com {}\".format(resultado,bolso))\n",
        "else: \n",
        "     print(\"Você errou e agora tem no bolso {}\".format(bolso))"
      ],
      "execution_count": null,
      "outputs": [
        {
          "output_type": "stream",
          "text": [
            "Qual número você aposta?4\n",
            "QUal o valor da Sua aposta?200\n",
            "Você não temn esse dinheiro\n",
            "Você ganhou 400.0 e agora está com 500.0\n"
          ],
          "name": "stdout"
        }
      ]
    },
    {
      "cell_type": "code",
      "metadata": {
        "id": "Jyu_zXGz-CoF",
        "outputId": "4cc98ffb-c137-48b2-a10a-8cdd19af8ca6",
        "colab": {
          "base_uri": "https://localhost:8080/"
        }
      },
      "source": [
        "# Calculo do IMC\n",
        "# Fórmula do IMC = peso / (altura**2)\n",
        "# abaixo 17 --> muito abaixo do peso\n",
        "# entre 17 e 18.5 --> abaixo do peso\n",
        "# entre 18.5 e 25 --> peso normal\n",
        "# entre 25 e 30 --> acima do peso\n",
        "# entre 30 e 35 --> obesidade Grau I\n",
        "# entre 35 e 40 --> obesidade Grau II\n",
        "# acima de  40 --> obesidade Mórbida\n",
        "print(\"Vamos ajudar você a ficar saudável. Primeiro precisamos saber seu IMC\")\n",
        "peso = float(input(\"Digite o seu peso: \"))\n",
        "altura = float(input(\"Digite sua Altura: \"))\n",
        "imc = peso / (altura**2)\n",
        "print(\"Seu IMC é: {}\".format(imc))\n",
        "if imc < 17:\n",
        "   print(\"Você está muito abaixo do Peso! \")\n",
        "elif (imc >=17) and (imc <18.5):\n",
        "    print(\"Você está abaixo do peso! \")\n",
        "elif (imc >=18.5) and (imc <25):\n",
        "    print(\"Você está no peso normal! \")\n",
        "elif (imc >=25) and (imc <18.5):\n",
        "    print(\"Você está abaixo do peso! \")\n",
        "elif (imc >=17) and (imc <30):\n",
        "    print(\"Você está acima do peso! \")\n",
        "elif (imc >=30) and (imc <35):\n",
        "    print(\"Você está acom Obesidade Grau I! \")\n",
        "elif (imc >=35) and (imc <40):\n",
        "    print(\"Você está acom Obesidade Grau II \")\n",
        "elif (imc > 40):\n",
        "    print(\"Você está acom Obesidade Morbida \")"
      ],
      "execution_count": null,
      "outputs": [
        {
          "output_type": "stream",
          "text": [
            "Vamos ajudar você a ficar saudável. Primeiro precisamos saber seu IMC\n",
            "Digite o seu peso: 65\n",
            "Digite sua Altura: 1.78\n",
            "Seu IMC é: 20.515086478979924\n",
            "Você está no peso normal! \n"
          ],
          "name": "stdout"
        }
      ]
    }
  ]
}