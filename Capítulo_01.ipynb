{
  "nbformat": 4,
  "nbformat_minor": 0,
  "metadata": {
    "colab": {
      "name": "Capítulo 01.ipynb",
      "provenance": [],
      "collapsed_sections": [],
      "authorship_tag": "ABX9TyPQ97LQhXKA9FFqhkbyeJCO",
      "include_colab_link": true
    },
    "kernelspec": {
      "name": "python3",
      "display_name": "Python 3"
    }
  },
  "cells": [
    {
      "cell_type": "markdown",
      "metadata": {
        "id": "view-in-github",
        "colab_type": "text"
      },
      "source": [
        "<a href=\"https://colab.research.google.com/github/Rufiothefox/necrocorp_informatica/blob/master/Cap%C3%ADtulo_01.ipynb\" target=\"_parent\"><img src=\"https://colab.research.google.com/assets/colab-badge.svg\" alt=\"Open In Colab\"/></a>"
      ]
    },
    {
      "cell_type": "code",
      "metadata": {
        "id": "dBSlDNu5tDkI",
        "outputId": "6bde03fd-ac05-4862-973c-309c242dac0d",
        "colab": {
          "base_uri": "https://localhost:8080/"
        }
      },
      "source": [
        "nome = \"Paulo, tem idade {} anos e tem {} Quilos\"\n",
        "idade = 42\n",
        "peso = 75\n",
        "print(nome.format (idade,peso))\n",
        "print(idade)"
      ],
      "execution_count": null,
      "outputs": [
        {
          "output_type": "stream",
          "text": [
            "Paulo, tem idade 42 anos e tem 75 Quilos\n",
            "42\n"
          ],
          "name": "stdout"
        }
      ]
    },
    {
      "cell_type": "code",
      "metadata": {
        "id": "k-pZxbB5SHZz",
        "outputId": "4f8692f3-763e-4df0-a494-84025c3b0a85",
        "colab": {
          "base_uri": "https://localhost:8080/"
        }
      },
      "source": [
        "idade = 18\n",
        "print(idade)\n",
        "peso = 80.9\n",
        "print(peso)"
      ],
      "execution_count": null,
      "outputs": [
        {
          "output_type": "stream",
          "text": [
            "18\n",
            "80.9\n"
          ],
          "name": "stdout"
        }
      ]
    },
    {
      "cell_type": "code",
      "metadata": {
        "id": "X2BPH2sTSm6H",
        "outputId": "ccde20a5-771b-427a-e49a-0f5e89873390",
        "colab": {
          "base_uri": "https://localhost:8080/"
        }
      },
      "source": [
        "preco_arroz = 4.99\n",
        "quilos = 10\n",
        "print(type(preco_arroz))\n",
        "print(type(quilos))\n",
        "print(preco_arroz*quilos)"
      ],
      "execution_count": null,
      "outputs": [
        {
          "output_type": "stream",
          "text": [
            "<class 'float'>\n",
            "<class 'int'>\n",
            "49.900000000000006\n"
          ],
          "name": "stdout"
        }
      ]
    },
    {
      "cell_type": "code",
      "metadata": {
        "id": "IiSluoQ_z7fy",
        "outputId": "3fa70004-015b-4677-b9ba-d74519d05dff",
        "colab": {
          "base_uri": "https://localhost:8080/"
        }
      },
      "source": [
        "# Este programa mostra o nome de uma pessoa conforme seu passaporte\n",
        "#exemplo Souza de castro, Maria\n",
        "\n",
        "primeiro_nome = input(\"Digite seu Primeiro Nome:\")\n",
        "sobrenome = input(\"Digite o seu sobrenome:\")\n",
        "print(\" O nome conforme o passaporte é: {}, {}\".format(sobrenome,primeiro_nome))"
      ],
      "execution_count": null,
      "outputs": [
        {
          "output_type": "stream",
          "text": [
            "Digite seu Primeiro Nome:Paulo\n",
            "Digite o seu sobrenome:Dos Santos Barranco\n",
            " O nome conforme o passaporte é: Dos Santos Barranco, Paulo\n"
          ],
          "name": "stdout"
        }
      ]
    },
    {
      "cell_type": "code",
      "metadata": {
        "id": "HkY90jgZ4Qip",
        "outputId": "8d1e7f8e-14e3-423b-8a0e-9c2e2a28c2f5",
        "colab": {
          "base_uri": "https://localhost:8080/"
        }
      },
      "source": [
        "nome = input(\"Digite o primeiro nome:\")\n",
        "sobrenome = input(\"Digite o segundo nome:\")\n",
        "nome = nome.capitalize()\n",
        "sobrenome = sobrenome.capitalize()\n",
        "nome_completo = nome+\" \"+sobrenome\n",
        "print(\"nome: {} - Sobrenome: {}\".format(nome,sobrenome))\n",
        "print(\"Seu nome completo é: {} \".format(nome_completo))\n"
      ],
      "execution_count": null,
      "outputs": [
        {
          "output_type": "stream",
          "text": [
            "Digite o primeiro nome:paulo\n",
            "Digite o segundo nome:santos\n",
            "nome: Paulo - Sobrenome: Santos\n",
            "Seu nome completo é: Paulo Santos \n"
          ],
          "name": "stdout"
        }
      ]
    },
    {
      "cell_type": "code",
      "metadata": {
        "id": "UTgPvdwg9TYi",
        "outputId": "a7019fdb-aae0-47f1-ab20-996d7921dff5",
        "colab": {
          "base_uri": "https://localhost:8080/"
        }
      },
      "source": [
        "nome = \"Paulo dos Santos Barranco\"\n",
        "nome_dividido = nome.split()\n",
        "print(len(nome))\n",
        "print(nome_dividido)\n",
        "print(\"Primeiro nome: {}\".format(nome_dividido[0]))\n"
      ],
      "execution_count": null,
      "outputs": [
        {
          "output_type": "stream",
          "text": [
            "25\n",
            "['Paulo', 'dos', 'Santos', 'Barranco']\n",
            "Primeiro nome: Paulo\n"
          ],
          "name": "stdout"
        }
      ]
    },
    {
      "cell_type": "code",
      "metadata": {
        "id": "k2kd3Y2K_-ND",
        "outputId": "f069b51d-92ad-4965-f91e-5ba6214f8601",
        "colab": {
          "base_uri": "https://localhost:8080/"
        }
      },
      "source": [
        "nome = \"Paulo dos Santos Barranco\"\n",
        "nome = nome[-9:-1]\n",
        "print(nome)"
      ],
      "execution_count": null,
      "outputs": [
        {
          "output_type": "stream",
          "text": [
            " Barranc\n"
          ],
          "name": "stdout"
        }
      ]
    },
    {
      "cell_type": "code",
      "metadata": {
        "id": "dVbC-hmGBIBq",
        "outputId": "2dc1c9ff-53c7-4b6f-86c8-d2d204206a4a",
        "colab": {
          "base_uri": "https://localhost:8080/"
        }
      },
      "source": [
        "nome = input(\"Digite seu nome: \")\n",
        "primeiro_espaco = nome.index(\" \")\n",
        "print(\"Infelizmente só posso gravar 20 letras. Será gravado {}\".format(nome[0:20]))\n",
        "print(\"O seu Primeiro nome é: {}\".format(nome[0:primeiro_espaco]))"
      ],
      "execution_count": null,
      "outputs": [
        {
          "output_type": "stream",
          "text": [
            "Digite seu nome: maria souza\n",
            "Infelizmente só posso gravar 20 letras. Será gravado maria souza\n",
            "O seu Primeiro nome é: maria\n"
          ],
          "name": "stdout"
        }
      ]
    },
    {
      "cell_type": "code",
      "metadata": {
        "id": "6xILQyhCFZ3U",
        "outputId": "88908fcf-82b8-4a00-a1cb-b3653617dd65",
        "colab": {
          "base_uri": "https://localhost:8080/"
        }
      },
      "source": [
        "frase = \"---Esta é um frase de teste   \"\n",
        "frase = frase.strip(\"-\").strip()\n",
        "print(\"*{}*\".format(frase) )"
      ],
      "execution_count": null,
      "outputs": [
        {
          "output_type": "stream",
          "text": [
            "*Esta é um frase de teste*\n"
          ],
          "name": "stdout"
        }
      ]
    },
    {
      "cell_type": "code",
      "metadata": {
        "id": "bfEKcUl6G6ee",
        "outputId": "24cfb83e-51ec-468d-f9ea-ee6ef2377f32",
        "colab": {
          "base_uri": "https://localhost:8080/",
          "height": 231
        }
      },
      "source": [
        "peso = input(\"Digite o seu peso:\")\n",
        "peso_dividido = peso.split(\".\")\n",
        "print(peso_dividido[0].isdigit())\n",
        "print(peso_dividido[1].isdigit())"
      ],
      "execution_count": null,
      "outputs": [
        {
          "output_type": "stream",
          "text": [
            "Digite o seu peso:120,5\n",
            "False\n"
          ],
          "name": "stdout"
        },
        {
          "output_type": "error",
          "ename": "IndexError",
          "evalue": "ignored",
          "traceback": [
            "\u001b[0;31m---------------------------------------------------------------------------\u001b[0m",
            "\u001b[0;31mIndexError\u001b[0m                                Traceback (most recent call last)",
            "\u001b[0;32m<ipython-input-79-7ae78079e93b>\u001b[0m in \u001b[0;36m<module>\u001b[0;34m()\u001b[0m\n\u001b[1;32m      2\u001b[0m \u001b[0mpeso_dividido\u001b[0m \u001b[0;34m=\u001b[0m \u001b[0mpeso\u001b[0m\u001b[0;34m.\u001b[0m\u001b[0msplit\u001b[0m\u001b[0;34m(\u001b[0m\u001b[0;34m\".\"\u001b[0m \u001b[0;34m\",\"\u001b[0m\u001b[0;34m)\u001b[0m\u001b[0;34m\u001b[0m\u001b[0;34m\u001b[0m\u001b[0m\n\u001b[1;32m      3\u001b[0m \u001b[0mprint\u001b[0m\u001b[0;34m(\u001b[0m\u001b[0mpeso_dividido\u001b[0m\u001b[0;34m[\u001b[0m\u001b[0;36m0\u001b[0m\u001b[0;34m]\u001b[0m\u001b[0;34m.\u001b[0m\u001b[0misdigit\u001b[0m\u001b[0;34m(\u001b[0m\u001b[0;34m)\u001b[0m\u001b[0;34m)\u001b[0m\u001b[0;34m\u001b[0m\u001b[0;34m\u001b[0m\u001b[0m\n\u001b[0;32m----> 4\u001b[0;31m \u001b[0mprint\u001b[0m\u001b[0;34m(\u001b[0m\u001b[0mpeso_dividido\u001b[0m\u001b[0;34m[\u001b[0m\u001b[0;36m1\u001b[0m\u001b[0;34m]\u001b[0m\u001b[0;34m.\u001b[0m\u001b[0misdigit\u001b[0m\u001b[0;34m(\u001b[0m\u001b[0;34m)\u001b[0m\u001b[0;34m)\u001b[0m\u001b[0;34m\u001b[0m\u001b[0;34m\u001b[0m\u001b[0m\n\u001b[0m",
            "\u001b[0;31mIndexError\u001b[0m: list index out of range"
          ]
        }
      ]
    },
    {
      "cell_type": "code",
      "metadata": {
        "id": "WOiALo-HUlPy",
        "outputId": "1519b0c5-668d-46e7-c09a-fb800cde8811",
        "colab": {
          "base_uri": "https://localhost:8080/"
        }
      },
      "source": [
        "# programa para calcular o imc - Indice de massa corporal\n",
        "# Fórmula  peso / (altura**2)\n",
        "peso = input(\"Digite o seu peso: \")\n",
        "altura = input(\"Digite a sua Altura: \")\n",
        "peso = float(peso)\n",
        "altura = float(altura)\n",
        "imc = peso / (altura**2)\n",
        "print(\"Seu IMC é: {}\".format(imc))\n"
      ],
      "execution_count": null,
      "outputs": [
        {
          "output_type": "stream",
          "text": [
            "Digite o seu peso: 120\n",
            "Digite a sua Altura: 1.8\n",
            "Seu IMC é: 37.03703703703704\n"
          ],
          "name": "stdout"
        }
      ]
    }
  ]
}